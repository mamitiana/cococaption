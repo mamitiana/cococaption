{
 "cells": [
  {
   "cell_type": "code",
   "execution_count": 5,
   "metadata": {
    "collapsed": false,
    "deletable": true,
    "editable": true
   },
   "outputs": [],
   "source": [
    "from clef.datasetSync import ImageClefDataset\n",
    "import config"
   ]
  },
  {
   "cell_type": "code",
   "execution_count": 19,
   "metadata": {
    "collapsed": false,
    "deletable": true,
    "editable": true
   },
   "outputs": [
    {
     "name": "stdout",
     "output_type": "stream",
     "text": [
      "image path/home/mamitiana/imageclef/train/image\n"
     ]
    }
   ],
   "source": [
    "temp= ImageClefDataset(config.Configuration.trainImages,config.Configuration.trainext,'train') "
   ]
  },
  {
   "cell_type": "code",
   "execution_count": 49,
   "metadata": {
    "collapsed": false
   },
   "outputs": [
    {
     "name": "stderr",
     "output_type": "stream",
     "text": [
      "/usr/local/lib/python3.5/dist-packages/numpy/core/fromnumeric.py:2909: RuntimeWarning: Mean of empty slice.\n",
      "  out=out, **kwargs)\n"
     ]
    },
    {
     "data": {
      "text/plain": [
       "count    164538.0\n",
       "mean          1.0\n",
       "std           0.0\n",
       "min           1.0\n",
       "25%           1.0\n",
       "50%           1.0\n",
       "75%           1.0\n",
       "max           1.0\n",
       "Name: captions, dtype: float64"
      ]
     },
     "execution_count": 49,
     "metadata": {},
     "output_type": "execute_result"
    }
   ],
   "source": [
    "temp.captionlist.apply(lambda x: np.mean ( [len( str(i).split(' ')) for i in temp.captionlist[x] ] ) ).describe()"
   ]
  },
  {
   "cell_type": "code",
   "execution_count": null,
   "metadata": {
    "collapsed": true
   },
   "outputs": [],
   "source": [
    "temp.captionlist.apply( lambda x: len(x) ).describe()"
   ]
  },
  {
   "cell_type": "code",
   "execution_count": 29,
   "metadata": {
    "collapsed": false
   },
   "outputs": [
    {
     "data": {
      "text/plain": [
       "1.0"
      ]
     },
     "execution_count": 29,
     "metadata": {},
     "output_type": "execute_result"
    }
   ],
   "source": [
    "np.mean( [len(i) for i in temp.caption[0] ] )"
   ]
  },
  {
   "cell_type": "code",
   "execution_count": 35,
   "metadata": {
    "collapsed": false
   },
   "outputs": [
    {
     "data": {
      "text/plain": [
       "['Morphological characterization of the hua2â\\x80\\x937 hulk2 hulk3 triple mutant.',\n",
       " 'Morphology of 9-day-old wild-type Colâ\\x80\\x930 and mutant seedlings.',\n",
       " 'The arrowhead indicates roots with arrested development in the hua2â\\x80\\x937 hulk2 hulk3 mutant.',\n",
       " 'Longitudinal sections of 9-day-old wild-type Colâ\\x80\\x930 and hua2â\\x80\\x937 hulk2 hulk3 seedlings showing shoot meristem abnormalities in the mutant.',\n",
       " 'Scanning electron micrographs of Colâ\\x80\\x930 and hua2â\\x80\\x937 hulk2 hulk3 flowers.',\n",
       " 'Scanning electron micrographs of stamens of wild-type Colâ\\x80\\x930 and hua2â\\x80\\x937 hulk2 hulk3.',\n",
       " 'Scanning electron micrographs of Colâ\\x80\\x930 petal cells and hua2â\\x80\\x937 hulk2 hulk3 petaloid stamen cells.',\n",
       " 'Scale barsÂ\\xa0=Â\\xa020Â\\xa0Î¼m , 150Â\\xa0Î¼m , 100Â\\xa0Î¼m  and 50Â\\xa0Î¼m .']"
      ]
     },
     "execution_count": 35,
     "metadata": {},
     "output_type": "execute_result"
    }
   ],
   "source": [
    "temp.captionlist[0]"
   ]
  },
  {
   "cell_type": "code",
   "execution_count": 43,
   "metadata": {
    "collapsed": false
   },
   "outputs": [],
   "source": [
    "a = np.mean ( [len(i.split(' ')) for i in temp.captionlist[0] ] )"
   ]
  },
  {
   "cell_type": "code",
   "execution_count": 44,
   "metadata": {
    "collapsed": false
   },
   "outputs": [
    {
     "data": {
      "text/plain": [
       "11.75"
      ]
     },
     "execution_count": 44,
     "metadata": {},
     "output_type": "execute_result"
    }
   ],
   "source": [
    "a\n",
    "\n"
   ]
  },
  {
   "cell_type": "code",
   "execution_count": 28,
   "metadata": {
    "collapsed": true
   },
   "outputs": [],
   "source": [
    "import numpy as np"
   ]
  },
  {
   "cell_type": "code",
   "execution_count": 17,
   "metadata": {
    "collapsed": false
   },
   "outputs": [
    {
     "data": {
      "text/plain": [
       "0        1\n",
       "1        2\n",
       "2        1\n",
       "3        2\n",
       "4        3\n",
       "5        1\n",
       "6        1\n",
       "7        1\n",
       "8        3\n",
       "9        2\n",
       "10       2\n",
       "11       2\n",
       "12       1\n",
       "13       1\n",
       "14       1\n",
       "15       1\n",
       "16       1\n",
       "17       6\n",
       "18       3\n",
       "19       2\n",
       "20       1\n",
       "21       1\n",
       "22       4\n",
       "23       1\n",
       "24       1\n",
       "25       2\n",
       "26       2\n",
       "27      12\n",
       "28       1\n",
       "29       1\n",
       "        ..\n",
       "9970     1\n",
       "9971     2\n",
       "9972     1\n",
       "9973     1\n",
       "9974     1\n",
       "9975     1\n",
       "9976     3\n",
       "9977     1\n",
       "9978     4\n",
       "9979     1\n",
       "9980     1\n",
       "9981     1\n",
       "9982     2\n",
       "9983     3\n",
       "9984     1\n",
       "9985     5\n",
       "9986     1\n",
       "9987     1\n",
       "9988     7\n",
       "9989     1\n",
       "9990     1\n",
       "9991     1\n",
       "9992     1\n",
       "9993     1\n",
       "9994     1\n",
       "9995     1\n",
       "9996     1\n",
       "9997     2\n",
       "9998     2\n",
       "9999     1\n",
       "Name: captions, dtype: int64"
      ]
     },
     "execution_count": 17,
     "metadata": {},
     "output_type": "execute_result"
    }
   ],
   "source": [
    "temp.captionlist.apply(lambda x: len(x))"
   ]
  },
  {
   "cell_type": "code",
   "execution_count": null,
   "metadata": {
    "collapsed": true
   },
   "outputs": [],
   "source": []
  }
 ],
 "metadata": {
  "kernelspec": {
   "display_name": "Python 3",
   "language": "python",
   "name": "python3"
  },
  "language_info": {
   "codemirror_mode": {
    "name": "ipython",
    "version": 3
   },
   "file_extension": ".py",
   "mimetype": "text/x-python",
   "name": "python",
   "nbconvert_exporter": "python",
   "pygments_lexer": "ipython3",
   "version": "3.5.2"
  }
 },
 "nbformat": 4,
 "nbformat_minor": 2
}
